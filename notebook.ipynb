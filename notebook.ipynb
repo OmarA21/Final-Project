{
 "cells": [
  {
   "cell_type": "markdown",
   "metadata": {},
   "source": [
    "# **F1 RACE PREDICTION MODEL**\n",
    "Data and AI play a huge role in F1, especially in deciding race strategies ahead of the race. In this notebook I will walk you through my project\n",
    "\n",
    "## **Overview**\n",
    "\n",
    "After extracting the data from [Ergast API](http://ergast.com/mrd/) and preprocessing the data, I will be training an initial basic model with 2 hidden layers, which we will then evaluated to further refine the data structures and find any abnormal outliers.\n",
    "\n",
    "## **Table of contents**\n",
    "- 1.0 environment\n",
    "- 2.0 F1 dataset\n",
    " - 2.1 Inspect the data\n",
    "- 3.0 Preprocessing the data\n",
    " - 3.1 A classification problem\n",
    " - 3.2 Generate and split the final dataset\n",
    " - 3.3 Feature scaling\n",
    "- 4.0 Initial prediction model\n",
    " - 4.1 Train and save the model\n",
    " - 4.2 Evaluate the model\n",
    "- 5.0 Hyperparameter tuning via random search\n",
    "- 6.0 Final prediction model\n",
    " - 6.1 Train and save the model\n",
    " - 6.2 Evaluate the model\n",
    "- 7.0 Extensions and improvements"
   ]
  },
  {
   "cell_type": "markdown",
   "metadata": {},
   "source": []
  }
 ],
 "metadata": {
  "language_info": {
   "name": "python"
  }
 },
 "nbformat": 4,
 "nbformat_minor": 2
}
